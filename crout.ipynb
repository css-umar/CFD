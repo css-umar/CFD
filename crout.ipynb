{
 "cells": [
  {
   "cell_type": "markdown",
   "metadata": {},
   "source": [
    "$$L=\n",
    "\\left(\\begin{matrix} \n",
    "L_{0,0} & 0 & 0\\\\\n",
    "L_{1,0} & L_{11}& 0\\\\\n",
    "L_{2,0} &L_{2,1}& L_{2,2}\n",
    "\\end{matrix}  \\right)\n",
    "$$\n",
    "\n",
    "$$U=\n",
    "\\left(\\begin{matrix}  \n",
    "1 & U_{0,1} & U_{0,2}\\\\ \n",
    "0 & 1 & U_{1,2} \\\\\n",
    "0 & 0 &  1\n",
    "\\end{matrix}\\right)\n",
    "$$\n",
    "\n",
    "$$A=\n",
    "\\left(\\begin{matrix}  \n",
    "a_{0,0} & a_{0,1} & a_{0,2}\\\\ \n",
    "a_{1,0} & a_{1,1} & a_{1,2} \\\\\n",
    "a_{2,0} & a_{2,1} & a_{2,2}\n",
    "\\end{matrix}\\right)\n",
    "$$\n",
    "\n",
    "$$L\\,U=A$$\n",
    "\n",
    "\n"
   ]
  },
  {
   "cell_type": "markdown",
   "metadata": {},
   "source": [
    "$$L=\n",
    "\\left(\\begin{matrix} \n",
    "a_{0,0} & 0 & 0\\\\\n",
    "a_{1,0} & a_{1,1}-L_{1,0}U_{0,1}& 0\\\\\n",
    "a_{2,1} &a_{2,1}-L_{2,0}U_{0,1}& a_{2,2}-L_{2,0}U_{0,2}-L_{2,1}U_{1,2}        \n",
    "\\end{matrix}  \\right)\n",
    "$$\n"
   ]
  },
  {
   "cell_type": "markdown",
   "metadata": {},
   "source": [
    "$$U=\n",
    "\\left(\\begin{matrix}  \n",
    "1 & \\dfrac{a_{0,1}}{a_{0,0}} & \\dfrac{a_{0,2}}{a_{0,0}}\\\\ \n",
    "0 & 1 & \\dfrac{a_{1,2}-L_{1,0}U_{0,2}}{L_{1,1}} \\\\\n",
    "0 & 0 &  1\n",
    "\\end{matrix}\\right)\n",
    "$$"
   ]
  },
  {
   "cell_type": "markdown",
   "metadata": {},
   "source": []
  },
  {
   "cell_type": "markdown",
   "metadata": {},
   "source": [
    "**Paso 1:**\n",
    "> $\\text{para}\\, i = 0\\ldots n$\n",
    "\n",
    "$$\n",
    "L_{i,0} = A_{i,0}\\\\\n",
    "U_{i,i} = 1.0\n",
    "$$\n",
    "\n",
    "> $\\text{para}\\, j = 1\\ldots n$\n",
    "\n",
    "$$ \n",
    "U_{0,j}=\\dfrac{A_{0,j}}{A_{0,0}}\n",
    "$$\n",
    "\n",
    "**Paso 2**\n",
    "\n",
    "> $\\text{para}\\, j = 1\\ldots n$\n",
    "\n",
    ">> $\\text{para}\\, i = j\\ldots n$\n",
    "\n",
    "$$\n",
    "L_{i,j}=A_{i,j}-\\sum_{k=1}^{j-1}{U_{k,j}L_{i,k}} \n",
    "$$\n",
    "\n",
    "$$\n",
    "U_{j,k}=\\dfrac{1}{L_{j,j}}\\left(A_{j,k}-\\sum_{i=1}^{j-1}{U_{i,k}L_{j,i}}\\right)\\, \\text{para}\\, k = j\\ldots n\n",
    "$$"
   ]
  },
  {
   "cell_type": "code",
   "execution_count": 47,
   "metadata": {},
   "outputs": [
    {
     "name": "stdout",
     "output_type": "stream",
     "text": [
      "(array([[ 4., -9.,  2.],\n",
      "       [ 2., -4.,  6.],\n",
      "       [ 1., -1.,  3.]]), array([[5.],\n",
      "       [3.],\n",
      "       [4.]]))\n"
     ]
    }
   ],
   "source": [
    "import numpy as np\n",
    "A=np.array([[4.0,-9.0,2.0],[2.0,-4.0,6.0],[1.0,-1.0,3.0]])\n",
    "b= np.array([[5.0],[3],[4]])\n",
    "print(A, b)"
   ]
  },
  {
   "cell_type": "code",
   "execution_count": 62,
   "metadata": {
    "code_folding": []
   },
   "outputs": [],
   "source": [
    "n,m = np.shape(A)\n",
    "L = np.zeros_like(A)\n",
    "U = np.zeros_like(A)\n",
    "for i in range(n):\n",
    "    L[i,0] = A[i,0]\n",
    "    U[i,i] = 1.0\n",
    "    if i > 0:\n",
    "        U[0,i] = A[0,i] / A[0,0]\n",
    "    \n",
    "for j in range (1, n):  \n",
    "    for i in range(j,n):\n",
    "        L[i,j] = A[i,j]\n",
    "        \n",
    "        for k in range(j-1):  \n",
    "            L[i,j] = L[i,j] - L[i,k]*U[k,j]\n",
    "            \n",
    "    for k in range(j+1,n):  \n",
    "        U[j,k] = A[j,k] \n",
    "        \n",
    "        for i in range (j-1):\n",
    "            U[j,k] = U[j,k] - L[j,i]*U[i,k] \n",
    "                        \n",
    "        U[j,k] = U[j,k] / L[j,j]      "
   ]
  },
  {
   "cell_type": "code",
   "execution_count": 63,
   "metadata": {},
   "outputs": [
    {
     "data": {
      "text/plain": [
       "array([[ 4. ,  0. ,  0. ],\n",
       "       [ 2. , -4. ,  0. ],\n",
       "       [ 1. , -1. ,  2.5]])"
      ]
     },
     "execution_count": 63,
     "metadata": {},
     "output_type": "execute_result"
    }
   ],
   "source": [
    "L"
   ]
  },
  {
   "cell_type": "code",
   "execution_count": 64,
   "metadata": {},
   "outputs": [
    {
     "data": {
      "text/plain": [
       "array([[ 1.  , -2.25,  0.5 ],\n",
       "       [ 0.  ,  1.  , -1.5 ],\n",
       "       [ 0.  ,  0.  ,  1.  ]])"
      ]
     },
     "execution_count": 64,
     "metadata": {},
     "output_type": "execute_result"
    }
   ],
   "source": [
    "U"
   ]
  },
  {
   "cell_type": "code",
   "execution_count": 82,
   "metadata": {},
   "outputs": [],
   "source": [
    "from scipy.linalg import lu, lu_factor, lu_solve"
   ]
  },
  {
   "cell_type": "markdown",
   "metadata": {},
   "source": [
    "scipy.linalg.lu\n",
    "scipy.linalg.lu(a, permute_l=False, overwrite_a=False, check_finite=True)[source]\n",
    "Compute pivoted LU decompostion of a matrix.\n",
    "\n",
    "The decomposition is:\n",
    "\n",
    "A = P L U\n",
    "where P is a permutation matrix, L lower triangular with unit diagonal elements, and U upper triangular.\n",
    "\n",
    "Parameters:\t\n",
    "a : (M, N) array_like\n",
    "\n",
    "Array to decompose\n",
    "\n",
    "permute_l : bool\n",
    "\n",
    "Perform the multiplication P*L (Default: do not permute)\n",
    "\n",
    "overwrite_a : bool\n",
    "\n",
    "Whether to overwrite data in a (may improve performance)\n",
    "\n",
    "check_finite : boolean, optional\n",
    "\n",
    "Whether to check that the input matrix contains only finite numbers. Disabling may give a performance gain, but may result in problems (crashes, non-termination) if the inputs do contain infinities or NaNs.\n",
    "\n",
    "Returns:\t\n",
    "(If permute_l == False)\n",
    "\n",
    "p : (M, M) ndarray\n",
    "\n",
    "Permutation matrix\n",
    "\n",
    "l : (M, K) ndarray\n",
    "\n",
    "Lower triangular or trapezoidal matrix with unit diagonal. K = min(M, N)\n",
    "\n",
    "u : (K, N) ndarray\n",
    "\n",
    "Upper triangular or trapezoidal matrix\n",
    "\n",
    "(If permute_l == True)\n",
    "\n",
    "pl : (M, K) ndarray\n",
    "\n",
    "Permuted L matrix. K = min(M, N)\n",
    "\n",
    "u : (K, N) ndarray\n",
    "\n",
    "Upper triangular or trapezoidal matrix"
   ]
  },
  {
   "cell_type": "code",
   "execution_count": 83,
   "metadata": {},
   "outputs": [],
   "source": [
    "Ps,Ls,Us =lu(A, permute_l=False, overwrite_a=False, check_finite=True)"
   ]
  },
  {
   "cell_type": "code",
   "execution_count": 84,
   "metadata": {},
   "outputs": [
    {
     "data": {
      "text/plain": [
       "array([[1., 0., 0.],\n",
       "       [0., 0., 1.],\n",
       "       [0., 1., 0.]])"
      ]
     },
     "execution_count": 84,
     "metadata": {},
     "output_type": "execute_result"
    }
   ],
   "source": [
    "Ps"
   ]
  },
  {
   "cell_type": "code",
   "execution_count": 85,
   "metadata": {},
   "outputs": [
    {
     "data": {
      "text/plain": [
       "array([[1.  , 0.  , 0.  ],\n",
       "       [0.25, 1.  , 0.  ],\n",
       "       [0.5 , 0.4 , 1.  ]])"
      ]
     },
     "execution_count": 85,
     "metadata": {},
     "output_type": "execute_result"
    }
   ],
   "source": [
    "Ls"
   ]
  },
  {
   "cell_type": "code",
   "execution_count": 86,
   "metadata": {},
   "outputs": [
    {
     "data": {
      "text/plain": [
       "array([[ 4.  , -9.  ,  2.  ],\n",
       "       [ 0.  ,  1.25,  2.5 ],\n",
       "       [ 0.  ,  0.  ,  4.  ]])"
      ]
     },
     "execution_count": 86,
     "metadata": {},
     "output_type": "execute_result"
    }
   ],
   "source": [
    "Us"
   ]
  },
  {
   "cell_type": "code",
   "execution_count": 87,
   "metadata": {},
   "outputs": [],
   "source": [
    "lu, piv = lu_factor(A)"
   ]
  },
  {
   "cell_type": "code",
   "execution_count": 88,
   "metadata": {},
   "outputs": [
    {
     "data": {
      "text/plain": [
       "array([[ 4.  , -9.  ,  2.  ],\n",
       "       [ 0.25,  1.25,  2.5 ],\n",
       "       [ 0.5 ,  0.4 ,  4.  ]])"
      ]
     },
     "execution_count": 88,
     "metadata": {},
     "output_type": "execute_result"
    }
   ],
   "source": [
    "lu"
   ]
  },
  {
   "cell_type": "code",
   "execution_count": 89,
   "metadata": {},
   "outputs": [
    {
     "data": {
      "text/plain": [
       "array([0, 2, 2])"
      ]
     },
     "execution_count": 89,
     "metadata": {},
     "output_type": "execute_result"
    }
   ],
   "source": [
    "piv"
   ]
  },
  {
   "cell_type": "code",
   "execution_count": 90,
   "metadata": {},
   "outputs": [],
   "source": [
    "x = lu_solve((lu, piv), b)"
   ]
  },
  {
   "cell_type": "code",
   "execution_count": 91,
   "metadata": {},
   "outputs": [
    {
     "name": "stdout",
     "output_type": "stream",
     "text": [
      "[[ 6.95]\n",
      " [ 2.5 ]\n",
      " [-0.15]]\n"
     ]
    }
   ],
   "source": [
    "print x"
   ]
  },
  {
   "cell_type": "markdown",
   "metadata": {},
   "source": [
    "scipy.linalg.lu_solve(lu_and_piv, b, trans=0, overwrite_b=False, check_finite=True)[source]\n",
    "Solve an equation system, a x = b, given the LU factorization of a\n",
    "\n",
    "Parameters\n",
    "(lu, piv)\n",
    "Factorization of the coefficient matrix a, as given by lu_factor\n",
    "\n",
    "barray\n",
    "Right-hand side\n",
    "\n",
    "trans{0, 1, 2}, optional\n",
    "Type of system to solve:\n",
    "\n",
    "trans\n",
    "\n",
    "system\n",
    "\n",
    "0\n",
    "\n",
    "a x = b\n",
    "\n",
    "1\n",
    "\n",
    "a^T x = b\n",
    "\n",
    "2\n",
    "\n",
    "a^H x = b\n",
    "\n",
    "overwrite_bbool, optional\n",
    "Whether to overwrite data in b (may increase performance)\n",
    "\n",
    "check_finitebool, optional\n",
    "Whether to check that the input matrices contain only finite numbers. Disabling may give a performance gain, but may result in problems (crashes, non-termination) if the inputs do contain infinities or NaNs.\n",
    "\n",
    "Returns\n",
    "xarray\n",
    "Solution to the system"
   ]
  },
  {
   "cell_type": "code",
   "execution_count": null,
   "metadata": {},
   "outputs": [],
   "source": []
  }
 ],
 "metadata": {
  "hide_input": false,
  "kernelspec": {
   "display_name": "Python 2",
   "language": "python",
   "name": "python2"
  },
  "language_info": {
   "codemirror_mode": {
    "name": "ipython",
    "version": 2
   },
   "file_extension": ".py",
   "mimetype": "text/x-python",
   "name": "python",
   "nbconvert_exporter": "python",
   "pygments_lexer": "ipython2",
   "version": "2.7.15"
  },
  "latex_envs": {
   "LaTeX_envs_menu_present": true,
   "autoclose": true,
   "autocomplete": true,
   "bibliofile": "biblio.bib",
   "cite_by": "apalike",
   "current_citInitial": 1,
   "eqLabelWithNumbers": true,
   "eqNumInitial": 1,
   "hotkeys": {
    "equation": "Ctrl-E",
    "itemize": "Ctrl-I"
   },
   "labels_anchors": false,
   "latex_user_defs": false,
   "report_style_numbering": true,
   "user_envs_cfg": false
  },
  "toc": {
   "base_numbering": 1,
   "nav_menu": {},
   "number_sections": true,
   "sideBar": true,
   "skip_h1_title": false,
   "title_cell": "Table of Contents",
   "title_sidebar": "Contents",
   "toc_cell": false,
   "toc_position": {},
   "toc_section_display": true,
   "toc_window_display": false
  }
 },
 "nbformat": 4,
 "nbformat_minor": 2
}
